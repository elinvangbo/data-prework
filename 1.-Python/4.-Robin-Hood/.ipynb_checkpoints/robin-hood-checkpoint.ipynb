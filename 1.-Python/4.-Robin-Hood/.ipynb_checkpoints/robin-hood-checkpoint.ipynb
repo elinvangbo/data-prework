{
 "cells": [
  {
   "cell_type": "markdown",
   "metadata": {},
   "source": [
    "<img src=\"https://bit.ly/2VnXWr2\" width=\"100\" align=\"left\"/>"
   ]
  },
  {
   "cell_type": "markdown",
   "metadata": {},
   "source": [
    "# Robin Hood\n",
    "Robin Hood has entered a competition to win the archery contest in Sherwood. With his bow and arrows, he needs to shoot on a target and try to hit as close as possible to the center.\n",
    "\n",
    "![](images/arrows.jpg)\n",
    "\n",
    "## Context\n",
    "In this challenge, the landing position of arrows shot by archers in the competition will be represented using 2-dimensional coordinates. \n",
    "\n",
    "In the 2-dimensional space, a point can be defined by a pair of values that correspond to the horizontal coordinate (x) and the vertical coordinate (y). For example, in our case, an arrow that hits the center of the archery target will land in position (0, 0) on the coordinate axes. \n",
    "\n",
    "The space can be divided into 4 zones (quadrants): Q1, Q2, Q3, Q4. If a point is in Q1, both its x coordinate and y coordinate are positive. Any point with a null x or y coordinate is considered to not belong to any quadrant. \n",
    "\n",
    "If you want to know more about the cartesian coordinate system, you can check this [link](https://en.wikipedia.org/wiki/Cartesian_coordinate_system). \n",
    "\n",
    "## Tools\n",
    "You don't necessarily need to use all the tools. Maybe you opt to use some of them or completely different ones, they are given to help you shape the exercise. Programming exercises can be solved in many different ways.\n",
    "* Data structures: **lists, sets, tuples**\n",
    "* Conditional statements: **if-elif-else**\n",
    "* Loop: **while/for**\n",
    "* Minimum (optional sorting)\n",
    "\n",
    "## Tasks\n",
    "Robin Hood has hit the following points:"
   ]
  },
  {
   "cell_type": "code",
   "execution_count": 2,
   "metadata": {},
   "outputs": [
    {
     "name": "stdout",
     "output_type": "stream",
     "text": [
      "Robin Hood has hit the following points [(9, -1), (-8, 0), (-7, -5), (-4, -9), (9, -4), (0, -3), (-3, -10), (10, -8), (4, 0), (3, -10), (3, -4), (8, -3), (-9, 7), (6, 5), (-7, 4), (10, -5), (4, -10), (-10, -9), (5, -1), (9, -5)]\n"
     ]
    }
   ],
   "source": [
    "import random\n",
    "\n",
    "x_coordinate = [-10, -9, -8, -7, -6, -5, -4, -3, -2, -1, 0, 1, 2, 3, 4, 5, 6, 7, 8, 9, 10]\n",
    "y_coordinate = [-10, -9, -8, -7, -6, -5, -4, -3, -2, -1, 0, 1, 2, 3, 4, 5, 6, 7, 8, 9, 10]\n",
    "\n",
    "maximum_shots = 20\n",
    "coordinate_hits = []\n",
    "\n",
    "for i in range(maximum_shots):\n",
    "    r_hits = x_coordinate[random.randint(0, 20)], y_coordinate[random.randint(0, 20)]\n",
    "    coordinate_hits.append(r_hits)\n",
    "\n",
    "print(\"Robin Hood has hit the following points\", coordinate_hits)\n"
   ]
  },
  {
   "cell_type": "markdown",
   "metadata": {},
   "source": [
    "#### 1. Robin Hood is famous for hitting an arrow with another arrow. Find the coordinates of the points where an arrow hits another arrow."
   ]
  },
  {
   "cell_type": "code",
   "execution_count": 3,
   "metadata": {},
   "outputs": [
    {
     "name": "stdout",
     "output_type": "stream",
     "text": [
      "The following points where hit more than once []\n"
     ]
    }
   ],
   "source": [
    "sorted_hits = sorted(set(coordinate_hits)) \n",
    "dup_hits = [] \n",
    " \n",
    "for i in range(len(sorted_hits)): \n",
    "        if (coordinate_hits.count(sorted_hits[i]) > 1 ): \n",
    "            dup_hits.append(sorted_hits[i]) \n",
    "            \n",
    "print(\"The following points where hit more than once\", dup_hits)"
   ]
  },
  {
   "cell_type": "markdown",
   "metadata": {},
   "source": [
    "#### 2. Calculate how many arrows have fallen in each quadrant. \n",
    "**Note**: the arrows that fall in the axis (x=0 or y=0) don't belong to any quadrant."
   ]
  },
  {
   "cell_type": "code",
   "execution_count": 4,
   "metadata": {},
   "outputs": [
    {
     "name": "stdout",
     "output_type": "stream",
     "text": [
      "There are 1 values in quadrant 1\n",
      "There are 2 values in quadrant 2\n",
      "There are 4 values in quadrant 3\n",
      "There are 10 values in quadrant 4\n"
     ]
    }
   ],
   "source": [
    "\n",
    "quadrant_1 = 0\n",
    "quadrant_2 = 0\n",
    "quadrant_3 = 0\n",
    "quadrant_4 = 0\n",
    "\n",
    "for i in coordinate_hits:\n",
    "    if i[0] > 0 and i[1] > 0:\n",
    "        quadrant_1 += 1\n",
    "    elif i[0] < 0 and i[1] > 0:\n",
    "        quadrant_2 += 1\n",
    "    elif i[0] < 0 and i[1] < 0:\n",
    "        quadrant_3 += 1\n",
    "    elif i[0] > 0 and i[1]< 0:\n",
    "        quadrant_4 += 1\n",
    "\n",
    "print(\"There are\", quadrant_1, \"values in quadrant 1\")\n",
    "print(\"There are\", quadrant_2, \"values in quadrant 2\")\n",
    "print(\"There are\", quadrant_3, \"values in quadrant 3\")\n",
    "print(\"There are\", quadrant_4, \"values in quadrant 4\")\n",
    "    "
   ]
  },
  {
   "cell_type": "markdown",
   "metadata": {},
   "source": [
    "#### 3. Find the point closest to the center. Calculate its distance to the center. \n",
    "Take into account that there might be more than one point at the minimum distance to the center.\n",
    "\n",
    "**Hint**: Use the Euclidean distance. You can find more information about it [here](https://en.wikipedia.org/wiki/Euclidean_distance).  \n",
    "**Hint**: Defining a function that calculates the distance to the center can help."
   ]
  },
  {
   "cell_type": "code",
   "execution_count": 5,
   "metadata": {},
   "outputs": [
    {
     "name": "stdout",
     "output_type": "stream",
     "text": [
      "Robin Hoods closest hit is point (0, -3) with a distance to the center of 3.0\n"
     ]
    }
   ],
   "source": [
    "closest_hit = coordinate_hits[0]\n",
    "closest = 999\n",
    "\n",
    "for i in range(maximum_shots):\n",
    "    if (coordinate_hits[i][0]**2 + coordinate_hits[i][1]**2)**0.5 < closest:\n",
    "        closest = (coordinate_hits[i][0]**2 + coordinate_hits[i][1]**2)**0.5\n",
    "        closest_hit = coordinate_hits[i]\n",
    "\n",
    "print(\"Robin Hoods closest hit is point\", closest_hit, \"with a distance to the center of\", closest)\n"
   ]
  },
  {
   "cell_type": "markdown",
   "metadata": {},
   "source": [
    "#### 4. If the archery target has a radius of 9, calculate the number of arrows that won't hit the target. \n",
    "**Hint**: Use the function created in step 3. "
   ]
  },
  {
   "cell_type": "code",
   "execution_count": 6,
   "metadata": {},
   "outputs": [
    {
     "name": "stdout",
     "output_type": "stream",
     "text": [
      "11 arrows missed the target\n"
     ]
    }
   ],
   "source": [
    "missed_hits = 0\n",
    "\n",
    "for i in range(maximum_shots):\n",
    "    if (coordinate_hits[i][0]**2 + coordinate_hits[i][1]**2)**0.5 > 9:\n",
    "        missed_hits += 1\n",
    "        \n",
    "print(missed_hits, \"arrows missed the target\")"
   ]
  },
  {
   "cell_type": "code",
   "execution_count": null,
   "metadata": {},
   "outputs": [],
   "source": []
  },
  {
   "cell_type": "code",
   "execution_count": null,
   "metadata": {},
   "outputs": [],
   "source": []
  },
  {
   "cell_type": "code",
   "execution_count": null,
   "metadata": {},
   "outputs": [],
   "source": []
  }
 ],
 "metadata": {
  "kernelspec": {
   "display_name": "Python 3",
   "language": "python",
   "name": "python3"
  },
  "language_info": {
   "codemirror_mode": {
    "name": "ipython",
    "version": 3
   },
   "file_extension": ".py",
   "mimetype": "text/x-python",
   "name": "python",
   "nbconvert_exporter": "python",
   "pygments_lexer": "ipython3",
   "version": "3.7.6"
  }
 },
 "nbformat": 4,
 "nbformat_minor": 2
}
